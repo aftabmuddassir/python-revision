{
  "nbformat": 4,
  "nbformat_minor": 0,
  "metadata": {
    "colab": {
      "provenance": []
    },
    "kernelspec": {
      "name": "python3",
      "display_name": "Python 3"
    },
    "language_info": {
      "name": "python"
    }
  },
  "cells": [
    {
      "cell_type": "code",
      "execution_count": null,
      "metadata": {
        "id": "zVptmWmHEbSx"
      },
      "outputs": [],
      "source": []
    },
    {
      "cell_type": "markdown",
      "source": [],
      "metadata": {
        "id": "GJ_h_g82F1bL"
      }
    },
    {
      "cell_type": "markdown",
      "source": [
        "Strings"
      ],
      "metadata": {
        "id": "bLeZc8faF4mM"
      }
    },
    {
      "cell_type": "code",
      "source": [
        "#String\n",
        "a = \"Hello World\"\n",
        "b='hello world'\n",
        "c = ''' hello world!\n",
        "How are you doing'''\n",
        "print(a)\n",
        "print(b)\n",
        "print(c, len(c))"
      ],
      "metadata": {
        "colab": {
          "base_uri": "https://localhost:8080/"
        },
        "id": "a7u3yt2aF6xa",
        "outputId": "19be3c63-71e9-441d-a9c7-4cb0a6754e3a"
      },
      "execution_count": 5,
      "outputs": [
        {
          "output_type": "stream",
          "name": "stdout",
          "text": [
            "Hello World\n",
            "hello world\n",
            " hello world!\n",
            "How are you doing 31\n"
          ]
        }
      ]
    },
    {
      "cell_type": "code",
      "source": [
        "#type casting\n",
        "a=14\n",
        "b=str(a)\n",
        "print(a)"
      ],
      "metadata": {
        "colab": {
          "base_uri": "https://localhost:8080/"
        },
        "id": "u7cw_lm3GjCu",
        "outputId": "46475240-cbf9-4dd0-fbd8-fb14433f6fec"
      },
      "execution_count": 6,
      "outputs": [
        {
          "output_type": "stream",
          "name": "stdout",
          "text": [
            "14\n"
          ]
        }
      ]
    },
    {
      "cell_type": "code",
      "source": [
        "s='hello '\n",
        "print(s.capitalize()) #capitalizes 1st letter\n",
        "print(s.upper())\n",
        "print(s.lower())\n",
        "print(s.rjust(8)) # gives 8 chars space and starts the string - right justify\n",
        "print(s.ljust(12)) # opposite of above\n",
        "print(s.replace('l','xyz')) # hexyzxyzo\n",
        "print(\"  aftab    \".strip()) # removes trailing spaces from both ends"
      ],
      "metadata": {
        "colab": {
          "base_uri": "https://localhost:8080/"
        },
        "id": "M8WuCG9LG1q9",
        "outputId": "e24d9732-467d-4405-e673-1c4801a8bf67"
      },
      "execution_count": 17,
      "outputs": [
        {
          "output_type": "stream",
          "name": "stdout",
          "text": [
            "Hello \n",
            "HELLO \n",
            "hello \n",
            "  hello \n",
            "hello       \n",
            "hexyzxyzo \n",
            "aftab\n"
          ]
        }
      ]
    },
    {
      "cell_type": "code",
      "source": [
        "print(s*10) #prints s 10 times\n",
        "print(s[4]) #print particular character\n",
        "#printing substring\n",
        "print(s[1:3]) #excludes right index - 3 in this case\n",
        "x=5\n",
        "print(x)\n",
        "print(x+1) #addition\n",
        "print(x-1) # subtraction\n",
        "print(x*2) #multiplication\n",
        "print(x//5) #floor division\n",
        "print(x/5) #decimal division\n",
        "print(x**2) # exponent\n",
        "#modulos\n",
        "print(x%2)"
      ],
      "metadata": {
        "colab": {
          "base_uri": "https://localhost:8080/"
        },
        "id": "9tYgS7WDIngE",
        "outputId": "b66e5962-4d0f-47b2-863d-716eac42e625"
      },
      "execution_count": 31,
      "outputs": [
        {
          "output_type": "stream",
          "name": "stdout",
          "text": [
            "hello hello hello hello hello hello hello hello hello hello \n",
            "o\n",
            "el\n",
            "5\n",
            "6\n",
            "4\n",
            "10\n",
            "1\n",
            "1.0\n",
            "25\n",
            "1\n"
          ]
        }
      ]
    },
    {
      "cell_type": "code",
      "source": [
        "#increment and decrement\n",
        "x+=1\n",
        "print(x) #x++ or x-- is not available in python unlike java\n",
        "x-=1\n",
        "print(x)"
      ],
      "metadata": {
        "colab": {
          "base_uri": "https://localhost:8080/"
        },
        "id": "18YtuTn6J7MR",
        "outputId": "d3ddc47a-b763-4df6-a668-3cee46c4604b"
      },
      "execution_count": 32,
      "outputs": [
        {
          "output_type": "stream",
          "name": "stdout",
          "text": [
            "6\n",
            "5\n"
          ]
        }
      ]
    },
    {
      "cell_type": "code",
      "source": [
        "#boolean\n",
        "a= True\n",
        "b=False\n",
        "\n",
        "print(a and b )\n",
        "print( a or b)\n",
        "print (not a)"
      ],
      "metadata": {
        "colab": {
          "base_uri": "https://localhost:8080/"
        },
        "id": "MaU57RrOLVgF",
        "outputId": "e06a7763-7290-4b08-f2d5-34dbdc8a5f4f"
      },
      "execution_count": 34,
      "outputs": [
        {
          "output_type": "stream",
          "name": "stdout",
          "text": [
            "False\n",
            "True\n",
            "False\n"
          ]
        }
      ]
    },
    {
      "cell_type": "markdown",
      "source": [
        "### **Containers ( Lists, Sets, Tuple and Dictionary)**"
      ],
      "metadata": {
        "id": "AqWK9Z-bLwKS"
      }
    },
    {
      "cell_type": "code",
      "source": [
        "# List"
      ],
      "metadata": {
        "id": "L10BZwfoL2Yr"
      },
      "execution_count": 35,
      "outputs": []
    },
    {
      "cell_type": "code",
      "source": [
        "a = [ \"Python\", \"Java\", \"Go\", 'JavaScript'] # 0 indexed\n",
        "print(a)\n",
        "print(a[0])\n",
        "print(a[3])\n",
        "#negative index starts from -1\n",
        "print(a[-1]) # starts from the end - prints last index in this case\n"
      ],
      "metadata": {
        "colab": {
          "base_uri": "https://localhost:8080/"
        },
        "id": "vv3R2jMPMHOU",
        "outputId": "4df5c6c1-a7d0-437f-82c4-b00b28742343"
      },
      "execution_count": 37,
      "outputs": [
        {
          "output_type": "stream",
          "name": "stdout",
          "text": [
            "['Python', 'Java', 'Go', 'JavaScript']\n",
            "Python\n",
            "JavaScript\n",
            "JavaScript\n"
          ]
        }
      ]
    },
    {
      "cell_type": "code",
      "source": [
        "#List can contain different data types\n",
        "l = [5,'aftab',False, 2.5]\n",
        "print(l)"
      ],
      "metadata": {
        "colab": {
          "base_uri": "https://localhost:8080/"
        },
        "id": "lIOpsxv1NHHH",
        "outputId": "116d61ce-63b8-4b57-e0c6-79a18dad9f8a"
      },
      "execution_count": 2,
      "outputs": [
        {
          "output_type": "stream",
          "name": "stdout",
          "text": [
            "[5, 'aftab', False, 2.5]\n"
          ]
        }
      ]
    },
    {
      "cell_type": "code",
      "source": [
        "#adding new element at the end\n",
        "l.append(5.5)\n",
        "print(l)\n",
        "#remove last element\n",
        "print(l.pop())\n",
        "poppedEle = l.pop()\n",
        "print(l)\n",
        "print(poppedEle)"
      ],
      "metadata": {
        "colab": {
          "base_uri": "https://localhost:8080/"
        },
        "id": "FpWmzQ5VNR_q",
        "outputId": "17e8dc5b-767d-45ef-cf31-79c7315bddde"
      },
      "execution_count": 3,
      "outputs": [
        {
          "output_type": "stream",
          "name": "stdout",
          "text": [
            "[5, 'aftab', False, 2.5, 5.5]\n",
            "5.5\n",
            "[5, 'aftab', False]\n",
            "2.5\n"
          ]
        }
      ]
    },
    {
      "cell_type": "code",
      "source": [
        "nums = list(range(5)) # built in func that creates list of integers\n",
        "print(nums)\n",
        "\n",
        "print(nums[2:4]) #starts from index 2 and excludes from 4th index\n",
        "print(nums[2:])  #starts from 2 till end\n",
        "print(nums[:2]) # starts from start till last index-1\n",
        "print(nums[:]) #slice of whole list\n",
        "print(nums[:-1]) # start till end excluding last index(-1)\n",
        "nums[2:4] = [50,100] # assigning new values to sublist in existing list\n",
        "print(nums)\n",
        "print(nums[::-1]) #reversing a list"
      ],
      "metadata": {
        "colab": {
          "base_uri": "https://localhost:8080/"
        },
        "id": "TR3oILbIFbMz",
        "outputId": "f3e2b12a-70a7-471f-b48e-137df3422977"
      },
      "execution_count": 9,
      "outputs": [
        {
          "output_type": "stream",
          "name": "stdout",
          "text": [
            "[0, 1, 2, 3, 4]\n",
            "[2, 3]\n",
            "[2, 3, 4]\n",
            "[0, 1]\n",
            "[0, 1, 2, 3, 4]\n",
            "[0, 1, 2, 3]\n",
            "[0, 1, 50, 100, 4]\n",
            "[4, 100, 50, 1, 0]\n"
          ]
        }
      ]
    },
    {
      "cell_type": "markdown",
      "source": [
        "### Tuples"
      ],
      "metadata": {
        "id": "-y8ZtdBwHP-d"
      }
    },
    {
      "cell_type": "code",
      "source": [
        "t = (12,34,51,74,98)\n",
        "print(t)\n",
        "print(t[0])\n",
        "#t[0]=100 # throws error ->TypeError: 'tuple' object does not support item assignment\n"
      ],
      "metadata": {
        "colab": {
          "base_uri": "https://localhost:8080/"
        },
        "id": "lwRHA6DVHSgX",
        "outputId": "a64df6d6-0189-4ce8-d5d6-ae1467c5b9b0"
      },
      "execution_count": 13,
      "outputs": [
        {
          "output_type": "stream",
          "name": "stdout",
          "text": [
            "(12, 34, 51, 74, 98)\n",
            "12\n"
          ]
        }
      ]
    },
    {
      "cell_type": "markdown",
      "source": [
        "### Sets"
      ],
      "metadata": {
        "id": "H89ATvFFH3Sv"
      }
    },
    {
      "cell_type": "code",
      "source": [
        "animals = {'dog','cat', 'bull','dog'} # unordered\n",
        "print(animals)\n",
        "print('cat' in animals) #true\n",
        "print('wolf' in animals) #false\n",
        "animals.add('lion')\n",
        "print(animals)\n"
      ],
      "metadata": {
        "colab": {
          "base_uri": "https://localhost:8080/"
        },
        "id": "ZdWrl_0HH49R",
        "outputId": "b16309d5-90d7-46eb-9b96-5ff0efd6a74f"
      },
      "execution_count": 16,
      "outputs": [
        {
          "output_type": "stream",
          "name": "stdout",
          "text": [
            "{'cat', 'dog', 'bull'}\n",
            "True\n",
            "False\n",
            "{'cat', 'dog', 'lion', 'bull'}\n"
          ]
        }
      ]
    },
    {
      "cell_type": "markdown",
      "source": [
        "### Dictionaries"
      ],
      "metadata": {
        "id": "W-bxJsnNIg_K"
      }
    },
    {
      "cell_type": "code",
      "source": [
        "#key value pair\n",
        "d = {1:'cat',2:'dog',3:'Lion','four':'Tiger'}\n",
        "print(d)\n",
        "print(d[1])\n",
        "print(d['four'])\n",
        "print(d[\"four\"])\n",
        "print('three' in d) #false\n",
        "\n",
        "d['five']='Wolf'\n",
        "print(d)"
      ],
      "metadata": {
        "colab": {
          "base_uri": "https://localhost:8080/"
        },
        "id": "i7nLknAuIkmU",
        "outputId": "e86412bc-1d4d-4e6f-9d02-ae8feb11488d"
      },
      "execution_count": 23,
      "outputs": [
        {
          "output_type": "stream",
          "name": "stdout",
          "text": [
            "{1: 'cat', 2: 'dog', 3: 'Lion', 'four': 'Tiger'}\n",
            "cat\n",
            "Tiger\n",
            "Tiger\n",
            "False\n",
            "{1: 'cat', 2: 'dog', 3: 'Lion', 'four': 'Tiger', 'five': 'Wolf'}\n"
          ]
        }
      ]
    },
    {
      "cell_type": "code",
      "source": [
        "print(d.get(1))\n",
        "print(d.get(10,'this is default'))\n",
        "del d['five']\n",
        "print(d)"
      ],
      "metadata": {
        "colab": {
          "base_uri": "https://localhost:8080/"
        },
        "id": "uCu21d1GJlPB",
        "outputId": "c0d09bcf-0688-40da-f5f1-fc0f839c99c2"
      },
      "execution_count": 26,
      "outputs": [
        {
          "output_type": "stream",
          "name": "stdout",
          "text": [
            "cat\n",
            "this is default\n",
            "{1: 'cat', 2: 'dog', 3: 'Lion', 'four': 'Tiger'}\n"
          ]
        }
      ]
    },
    {
      "cell_type": "markdown",
      "source": [
        "### Conditional Statements"
      ],
      "metadata": {
        "id": "8ezYWO_4Kc3E"
      }
    },
    {
      "cell_type": "code",
      "source": [
        "s1=80\n",
        "s2=80\n",
        "#indentation & colon after keywords (if, elif, else)\n",
        "# are important and there are no braces in if condition unlike java\n",
        "if s1<s2:\n",
        "  print(\"s2 has more marks\")\n",
        "elif s1>s2:\n",
        "  print(\"s1 has more marks\")\n",
        "else:\n",
        "  print(\"both have equal marks\")"
      ],
      "metadata": {
        "colab": {
          "base_uri": "https://localhost:8080/"
        },
        "id": "-CfQU7QAKf4O",
        "outputId": "93439e98-b6fe-44b1-c53a-5683e03f0b33"
      },
      "execution_count": 33,
      "outputs": [
        {
          "output_type": "stream",
          "name": "stdout",
          "text": [
            "both have equal marks\n"
          ]
        }
      ]
    },
    {
      "cell_type": "markdown",
      "source": [
        "### While loop"
      ],
      "metadata": {
        "id": "yOsW_Gn2L1MD"
      }
    },
    {
      "cell_type": "code",
      "source": [
        "# a=0\n",
        "# while a<10:\n",
        "#   a+=1\n",
        "#   print(a,a**2)\n",
        "b=0\n",
        "for i in range(6,10): #range(10) -> prints 10 times\n",
        "  b+=1\n",
        "  print(b,b**2,i)\n",
        "\n",
        "a= [0,1,2,3,4]\n",
        "for i in a:\n",
        "  print(i)"
      ],
      "metadata": {
        "colab": {
          "base_uri": "https://localhost:8080/"
        },
        "id": "PSXJAhIjL5fW",
        "outputId": "ff71c79d-eeca-4b76-dd10-d3295c3a8c72"
      },
      "execution_count": 40,
      "outputs": [
        {
          "output_type": "stream",
          "name": "stdout",
          "text": [
            "1 1 6\n",
            "2 4 7\n",
            "3 9 8\n",
            "4 16 9\n",
            "0\n",
            "1\n",
            "2\n",
            "3\n",
            "4\n"
          ]
        }
      ]
    },
    {
      "cell_type": "code",
      "source": [
        "#enumerate\n",
        "animals = ['cat','dog','monkey']\n",
        "for idx,animal in enumerate(animals):\n",
        "  print('#{}: {}'.format(idx,animal))"
      ],
      "metadata": {
        "colab": {
          "base_uri": "https://localhost:8080/"
        },
        "id": "xpEezt93NcXW",
        "outputId": "3b2bcd0d-71e0-4a97-88d3-4ff7a9774e09"
      },
      "execution_count": 42,
      "outputs": [
        {
          "output_type": "stream",
          "name": "stdout",
          "text": [
            "#0: cat\n",
            "#1: dog\n",
            "#2: monkey\n"
          ]
        }
      ]
    },
    {
      "cell_type": "code",
      "source": [
        "#loop on dictionaries\n",
        "d = {1:'cat',2:'dog',3:'Lion','four':'Tiger'}\n",
        "for key,value in d.items(): #importnt keyword is .items()\n",
        "  print(key,value)"
      ],
      "metadata": {
        "colab": {
          "base_uri": "https://localhost:8080/"
        },
        "id": "sv7EJpCIN-ZE",
        "outputId": "1d84e70b-3982-4d9b-ff58-a0874253d289"
      },
      "execution_count": 44,
      "outputs": [
        {
          "output_type": "stream",
          "name": "stdout",
          "text": [
            "1 cat\n",
            "2 dog\n",
            "3 Lion\n",
            "four Tiger\n"
          ]
        }
      ]
    },
    {
      "cell_type": "markdown",
      "source": [
        "### Functions"
      ],
      "metadata": {
        "id": "RQUBw2A-Oksx"
      }
    },
    {
      "cell_type": "code",
      "source": [
        "def sum():\n",
        "  pass #if nothing is being done in func\n",
        "\n",
        "def printHello():\n",
        "  print(\"Hello\")\n",
        "\n",
        "printHello() #calling the function\n"
      ],
      "metadata": {
        "colab": {
          "base_uri": "https://localhost:8080/"
        },
        "id": "atCf6T9ROm_8",
        "outputId": "278bceca-51e4-44ba-880b-6e68c006a6da"
      },
      "execution_count": 47,
      "outputs": [
        {
          "output_type": "stream",
          "name": "stdout",
          "text": [
            "Hello\n"
          ]
        }
      ]
    },
    {
      "cell_type": "code",
      "source": [
        "x=5\n",
        "\n",
        "def printSign(x):\n",
        "  if(x>0):\n",
        "    print(\"Positive\")\n",
        "  else:\n",
        "    print(\"Neative\")\n",
        "\n",
        "printSign(10)\n"
      ],
      "metadata": {
        "colab": {
          "base_uri": "https://localhost:8080/"
        },
        "id": "Jla8ZiJgPFf0",
        "outputId": "aa6727e9-015d-4f21-96ab-a0d4f38cb197"
      },
      "execution_count": 50,
      "outputs": [
        {
          "output_type": "stream",
          "name": "stdout",
          "text": [
            "Positive\n"
          ]
        }
      ]
    },
    {
      "cell_type": "markdown",
      "source": [
        "### Lambda Function"
      ],
      "metadata": {
        "id": "aSuIo8KVP08E"
      }
    },
    {
      "cell_type": "code",
      "source": [
        "def myFunc(x):\n",
        "  return x*x\n",
        "\n",
        "#the above simple func can be written by lambda func\n",
        "\n",
        "my_lambdaFunc = lambda x:x*x  #x is input parameter & x*x is return statement\n",
        "\n",
        "for i in range(10):\n",
        "  print(my_lambdaFunc(i),myFunc(i))"
      ],
      "metadata": {
        "colab": {
          "base_uri": "https://localhost:8080/"
        },
        "id": "NND0hogTP3qj",
        "outputId": "0c147a9c-3371-4f3c-fc07-2491313964bc"
      },
      "execution_count": 53,
      "outputs": [
        {
          "output_type": "stream",
          "name": "stdout",
          "text": [
            "0 0\n",
            "1 1\n",
            "4 4\n",
            "9 9\n",
            "16 16\n",
            "25 25\n",
            "36 36\n",
            "49 49\n",
            "64 64\n",
            "81 81\n"
          ]
        }
      ]
    },
    {
      "cell_type": "code",
      "source": [
        "#default arguement\n",
        "def printHello(name, loud=False): # this is default if 2nd parameter is not passed)\n",
        "  if loud:\n",
        "    print('HELLO, {}' .format(name.upper()))\n",
        "  else:\n",
        "    print(' hello, {}' .format(name))\n",
        "\n",
        "printHello('aftab',True)\n",
        "printHello('aftab')"
      ],
      "metadata": {
        "colab": {
          "base_uri": "https://localhost:8080/"
        },
        "id": "oSQiHpvIQhrL",
        "outputId": "eac7542c-5f86-48a0-ea64-e396ab95c5b1"
      },
      "execution_count": 55,
      "outputs": [
        {
          "output_type": "stream",
          "name": "stdout",
          "text": [
            "HELLO, AFTAB\n",
            " hello, aftab\n"
          ]
        }
      ]
    }
  ]
}